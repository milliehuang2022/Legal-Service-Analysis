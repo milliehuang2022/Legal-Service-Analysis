{
 "cells": [
  {
   "cell_type": "code",
   "execution_count": 1,
   "id": "3cc4bce9-8c98-4f8b-9a10-bcf981552a9c",
   "metadata": {},
   "outputs": [],
   "source": [
    "import pandas as pd\n",
    "import numpy as np\n",
    "import seaborn as sns\n",
    "import matplotlib.pyplot as plt\n",
    "import matplotlib as mpl\n",
    "import plotly.express as px\n",
    "import plotly.offline as py\n",
    "import plotly.graph_objects as go"
   ]
  },
  {
   "cell_type": "code",
   "execution_count": 2,
   "id": "03d1e0a2-6d43-40d9-a614-9c5c4b729d0c",
   "metadata": {
    "tags": []
   },
   "outputs": [],
   "source": [
    "questions = pd.read_csv(\"questions.csv\")\n",
    "attorneys = pd.read_csv(\"attorneys.csv\")\n",
    "clients = pd.read_csv(\"clients.csv\")"
   ]
  },
  {
   "cell_type": "code",
   "execution_count": 3,
   "id": "86b6f257-24e0-4c18-951c-7fb0a051b278",
   "metadata": {
    "collapsed": true,
    "jupyter": {
     "outputs_hidden": true
    },
    "tags": []
   },
   "outputs": [
    {
     "data": {
      "text/html": [
       "<div>\n",
       "<style scoped>\n",
       "    .dataframe tbody tr th:only-of-type {\n",
       "        vertical-align: middle;\n",
       "    }\n",
       "\n",
       "    .dataframe tbody tr th {\n",
       "        vertical-align: top;\n",
       "    }\n",
       "\n",
       "    .dataframe thead th {\n",
       "        text-align: right;\n",
       "    }\n",
       "</style>\n",
       "<table border=\"1\" class=\"dataframe\">\n",
       "  <thead>\n",
       "    <tr style=\"text-align: right;\">\n",
       "      <th></th>\n",
       "      <th>Id</th>\n",
       "      <th>StateAbbr</th>\n",
       "      <th>QuestionUno</th>\n",
       "      <th>CategoryUno</th>\n",
       "      <th>Category</th>\n",
       "      <th>SubcategoryUno</th>\n",
       "      <th>Subcategory</th>\n",
       "      <th>AskedByClientUno</th>\n",
       "      <th>AskedOnUtc</th>\n",
       "      <th>TakenByAttorneyUno</th>\n",
       "      <th>TakenOnUtc</th>\n",
       "      <th>ClosedByAttorneyUno</th>\n",
       "      <th>ClosedOnUtc</th>\n",
       "      <th>LegalDeadline</th>\n",
       "    </tr>\n",
       "  </thead>\n",
       "  <tbody>\n",
       "    <tr>\n",
       "      <th>0</th>\n",
       "      <td>1</td>\n",
       "      <td>NC</td>\n",
       "      <td>BB53B2A4-7C1B-45C3-9693-62047889317D</td>\n",
       "      <td>C932D197-7F43-4BCF-BE0B-FE5F5DBCB9EF</td>\n",
       "      <td>Family and Children</td>\n",
       "      <td>E9F87919-0CD5-4D9D-AAC6-3CBC49132F1D</td>\n",
       "      <td>Family/Divorce/Custody/Visitation/Child Support</td>\n",
       "      <td>9C35423C-914A-42BC-8EBC-A370E76E2178</td>\n",
       "      <td>2019-06-19 22:10:06</td>\n",
       "      <td>NaN</td>\n",
       "      <td>NaN</td>\n",
       "      <td>NaN</td>\n",
       "      <td>2019-08-13 15:09:06</td>\n",
       "      <td>2019-07-08 00:00:00</td>\n",
       "    </tr>\n",
       "    <tr>\n",
       "      <th>1</th>\n",
       "      <td>2</td>\n",
       "      <td>NC</td>\n",
       "      <td>0C49F841-2782-4313-961E-7882B96D0854</td>\n",
       "      <td>C8E1275A-6C42-42E4-9B7D-231BAC438FC9</td>\n",
       "      <td>Individual Rights</td>\n",
       "      <td>73A59926-BA0B-44EC-ABF3-F4C9181EEA83</td>\n",
       "      <td>Civil/Constitutional Rights</td>\n",
       "      <td>DF636AEE-7D08-4F90-9A5C-0A2A726C6B59</td>\n",
       "      <td>2019-06-19 23:34:36</td>\n",
       "      <td>NaN</td>\n",
       "      <td>NaN</td>\n",
       "      <td>NaN</td>\n",
       "      <td>2019-08-13 15:09:14</td>\n",
       "      <td>NaN</td>\n",
       "    </tr>\n",
       "    <tr>\n",
       "      <th>2</th>\n",
       "      <td>3</td>\n",
       "      <td>NC</td>\n",
       "      <td>BFC28E08-B6B1-4185-A91A-89DF90816BE4</td>\n",
       "      <td>C8E1275A-6C42-42E4-9B7D-231BAC438FC9</td>\n",
       "      <td>Individual Rights</td>\n",
       "      <td>73A59926-BA0B-44EC-ABF3-F4C9181EEA83</td>\n",
       "      <td>Civil/Constitutional Rights</td>\n",
       "      <td>DF636AEE-7D08-4F90-9A5C-0A2A726C6B59</td>\n",
       "      <td>2019-06-19 23:57:18</td>\n",
       "      <td>FA34142B-1575-4720-981C-2D28C3560137</td>\n",
       "      <td>2019-06-22 02:37:16</td>\n",
       "      <td>FA34142B-1575-4720-981C-2D28C3560137</td>\n",
       "      <td>2019-06-24 19:02:35</td>\n",
       "      <td>NaN</td>\n",
       "    </tr>\n",
       "    <tr>\n",
       "      <th>3</th>\n",
       "      <td>4</td>\n",
       "      <td>NC</td>\n",
       "      <td>45B24109-243A-489B-B0D2-2F36C2A369FE</td>\n",
       "      <td>C932D197-7F43-4BCF-BE0B-FE5F5DBCB9EF</td>\n",
       "      <td>Family and Children</td>\n",
       "      <td>E9F87919-0CD5-4D9D-AAC6-3CBC49132F1D</td>\n",
       "      <td>Family/Divorce/Custody/Visitation/Child Support</td>\n",
       "      <td>C9C3FA40-0D60-49B9-97F1-63AFEFAFA484</td>\n",
       "      <td>2019-06-20 02:33:14</td>\n",
       "      <td>FA34142B-1575-4720-981C-2D28C3560137</td>\n",
       "      <td>2019-07-27 18:04:08</td>\n",
       "      <td>FA34142B-1575-4720-981C-2D28C3560137</td>\n",
       "      <td>2019-07-31 05:49:18</td>\n",
       "      <td>NaN</td>\n",
       "    </tr>\n",
       "    <tr>\n",
       "      <th>4</th>\n",
       "      <td>5</td>\n",
       "      <td>NC</td>\n",
       "      <td>C4707F71-FE4A-4154-8174-AF00BEE2B361</td>\n",
       "      <td>F6016FBD-9501-4448-BCD3-BBB0E834E33B</td>\n",
       "      <td>Consumer Financial Questions</td>\n",
       "      <td>73FE486E-2B51-456A-A6D9-78A7D05802AA</td>\n",
       "      <td>Bankruptcy, Debts &amp; Purchases</td>\n",
       "      <td>ED7DEA10-CDB7-4A05-891D-889D1EA710BE</td>\n",
       "      <td>2019-06-20 17:04:47</td>\n",
       "      <td>NaN</td>\n",
       "      <td>NaN</td>\n",
       "      <td>NaN</td>\n",
       "      <td>2019-08-13 15:09:20</td>\n",
       "      <td>NaN</td>\n",
       "    </tr>\n",
       "  </tbody>\n",
       "</table>\n",
       "</div>"
      ],
      "text/plain": [
       "   Id StateAbbr                           QuestionUno   \n",
       "0   1        NC  BB53B2A4-7C1B-45C3-9693-62047889317D  \\\n",
       "1   2        NC  0C49F841-2782-4313-961E-7882B96D0854   \n",
       "2   3        NC  BFC28E08-B6B1-4185-A91A-89DF90816BE4   \n",
       "3   4        NC  45B24109-243A-489B-B0D2-2F36C2A369FE   \n",
       "4   5        NC  C4707F71-FE4A-4154-8174-AF00BEE2B361   \n",
       "\n",
       "                            CategoryUno                      Category   \n",
       "0  C932D197-7F43-4BCF-BE0B-FE5F5DBCB9EF           Family and Children  \\\n",
       "1  C8E1275A-6C42-42E4-9B7D-231BAC438FC9             Individual Rights   \n",
       "2  C8E1275A-6C42-42E4-9B7D-231BAC438FC9             Individual Rights   \n",
       "3  C932D197-7F43-4BCF-BE0B-FE5F5DBCB9EF           Family and Children   \n",
       "4  F6016FBD-9501-4448-BCD3-BBB0E834E33B  Consumer Financial Questions   \n",
       "\n",
       "                         SubcategoryUno   \n",
       "0  E9F87919-0CD5-4D9D-AAC6-3CBC49132F1D  \\\n",
       "1  73A59926-BA0B-44EC-ABF3-F4C9181EEA83   \n",
       "2  73A59926-BA0B-44EC-ABF3-F4C9181EEA83   \n",
       "3  E9F87919-0CD5-4D9D-AAC6-3CBC49132F1D   \n",
       "4  73FE486E-2B51-456A-A6D9-78A7D05802AA   \n",
       "\n",
       "                                       Subcategory   \n",
       "0  Family/Divorce/Custody/Visitation/Child Support  \\\n",
       "1                      Civil/Constitutional Rights   \n",
       "2                      Civil/Constitutional Rights   \n",
       "3  Family/Divorce/Custody/Visitation/Child Support   \n",
       "4                    Bankruptcy, Debts & Purchases   \n",
       "\n",
       "                       AskedByClientUno           AskedOnUtc   \n",
       "0  9C35423C-914A-42BC-8EBC-A370E76E2178  2019-06-19 22:10:06  \\\n",
       "1  DF636AEE-7D08-4F90-9A5C-0A2A726C6B59  2019-06-19 23:34:36   \n",
       "2  DF636AEE-7D08-4F90-9A5C-0A2A726C6B59  2019-06-19 23:57:18   \n",
       "3  C9C3FA40-0D60-49B9-97F1-63AFEFAFA484  2019-06-20 02:33:14   \n",
       "4  ED7DEA10-CDB7-4A05-891D-889D1EA710BE  2019-06-20 17:04:47   \n",
       "\n",
       "                     TakenByAttorneyUno           TakenOnUtc   \n",
       "0                                   NaN                  NaN  \\\n",
       "1                                   NaN                  NaN   \n",
       "2  FA34142B-1575-4720-981C-2D28C3560137  2019-06-22 02:37:16   \n",
       "3  FA34142B-1575-4720-981C-2D28C3560137  2019-07-27 18:04:08   \n",
       "4                                   NaN                  NaN   \n",
       "\n",
       "                    ClosedByAttorneyUno          ClosedOnUtc   \n",
       "0                                   NaN  2019-08-13 15:09:06  \\\n",
       "1                                   NaN  2019-08-13 15:09:14   \n",
       "2  FA34142B-1575-4720-981C-2D28C3560137  2019-06-24 19:02:35   \n",
       "3  FA34142B-1575-4720-981C-2D28C3560137  2019-07-31 05:49:18   \n",
       "4                                   NaN  2019-08-13 15:09:20   \n",
       "\n",
       "         LegalDeadline  \n",
       "0  2019-07-08 00:00:00  \n",
       "1                  NaN  \n",
       "2                  NaN  \n",
       "3                  NaN  \n",
       "4                  NaN  "
      ]
     },
     "execution_count": 3,
     "metadata": {},
     "output_type": "execute_result"
    }
   ],
   "source": [
    "questions.head()"
   ]
  },
  {
   "cell_type": "code",
   "execution_count": 4,
   "id": "790d542d-3a1e-4bd9-9fc8-eccecafe551c",
   "metadata": {
    "collapsed": true,
    "jupyter": {
     "outputs_hidden": true
    },
    "tags": []
   },
   "outputs": [
    {
     "data": {
      "text/html": [
       "<div>\n",
       "<style scoped>\n",
       "    .dataframe tbody tr th:only-of-type {\n",
       "        vertical-align: middle;\n",
       "    }\n",
       "\n",
       "    .dataframe tbody tr th {\n",
       "        vertical-align: top;\n",
       "    }\n",
       "\n",
       "    .dataframe thead th {\n",
       "        text-align: right;\n",
       "    }\n",
       "</style>\n",
       "<table border=\"1\" class=\"dataframe\">\n",
       "  <thead>\n",
       "    <tr style=\"text-align: right;\">\n",
       "      <th></th>\n",
       "      <th>State</th>\n",
       "      <th>Client State Count</th>\n",
       "      <th>Attorney State Count</th>\n",
       "      <th>Client to Attorney Ratio</th>\n",
       "    </tr>\n",
       "  </thead>\n",
       "  <tbody>\n",
       "    <tr>\n",
       "      <th>0</th>\n",
       "      <td>AK</td>\n",
       "      <td>1567</td>\n",
       "      <td>110</td>\n",
       "      <td>14.245455</td>\n",
       "    </tr>\n",
       "    <tr>\n",
       "      <th>1</th>\n",
       "      <td>AL</td>\n",
       "      <td>1538</td>\n",
       "      <td>138</td>\n",
       "      <td>11.144928</td>\n",
       "    </tr>\n",
       "    <tr>\n",
       "      <th>2</th>\n",
       "      <td>AR</td>\n",
       "      <td>4243</td>\n",
       "      <td>192</td>\n",
       "      <td>22.098958</td>\n",
       "    </tr>\n",
       "    <tr>\n",
       "      <th>3</th>\n",
       "      <td>AZ</td>\n",
       "      <td>9580</td>\n",
       "      <td>104</td>\n",
       "      <td>92.115385</td>\n",
       "    </tr>\n",
       "    <tr>\n",
       "      <th>4</th>\n",
       "      <td>CA</td>\n",
       "      <td>5188</td>\n",
       "      <td>245</td>\n",
       "      <td>21.175510</td>\n",
       "    </tr>\n",
       "    <tr>\n",
       "      <th>5</th>\n",
       "      <td>CT</td>\n",
       "      <td>2206</td>\n",
       "      <td>103</td>\n",
       "      <td>21.417476</td>\n",
       "    </tr>\n",
       "    <tr>\n",
       "      <th>6</th>\n",
       "      <td>FL</td>\n",
       "      <td>30525</td>\n",
       "      <td>1103</td>\n",
       "      <td>27.674524</td>\n",
       "    </tr>\n",
       "    <tr>\n",
       "      <th>7</th>\n",
       "      <td>GA</td>\n",
       "      <td>13986</td>\n",
       "      <td>308</td>\n",
       "      <td>45.409091</td>\n",
       "    </tr>\n",
       "    <tr>\n",
       "      <th>8</th>\n",
       "      <td>HI</td>\n",
       "      <td>4222</td>\n",
       "      <td>125</td>\n",
       "      <td>33.776000</td>\n",
       "    </tr>\n",
       "    <tr>\n",
       "      <th>9</th>\n",
       "      <td>IA</td>\n",
       "      <td>3099</td>\n",
       "      <td>67</td>\n",
       "      <td>46.253731</td>\n",
       "    </tr>\n",
       "    <tr>\n",
       "      <th>10</th>\n",
       "      <td>ID</td>\n",
       "      <td>1</td>\n",
       "      <td>2</td>\n",
       "      <td>0.500000</td>\n",
       "    </tr>\n",
       "    <tr>\n",
       "      <th>11</th>\n",
       "      <td>IL</td>\n",
       "      <td>23036</td>\n",
       "      <td>997</td>\n",
       "      <td>23.105316</td>\n",
       "    </tr>\n",
       "    <tr>\n",
       "      <th>12</th>\n",
       "      <td>IN</td>\n",
       "      <td>31458</td>\n",
       "      <td>484</td>\n",
       "      <td>64.995868</td>\n",
       "    </tr>\n",
       "    <tr>\n",
       "      <th>13</th>\n",
       "      <td>KS</td>\n",
       "      <td>875</td>\n",
       "      <td>30</td>\n",
       "      <td>29.166667</td>\n",
       "    </tr>\n",
       "    <tr>\n",
       "      <th>14</th>\n",
       "      <td>LA</td>\n",
       "      <td>6001</td>\n",
       "      <td>246</td>\n",
       "      <td>24.394309</td>\n",
       "    </tr>\n",
       "    <tr>\n",
       "      <th>15</th>\n",
       "      <td>MA</td>\n",
       "      <td>15902</td>\n",
       "      <td>533</td>\n",
       "      <td>29.834897</td>\n",
       "    </tr>\n",
       "    <tr>\n",
       "      <th>16</th>\n",
       "      <td>MD</td>\n",
       "      <td>5349</td>\n",
       "      <td>262</td>\n",
       "      <td>20.416031</td>\n",
       "    </tr>\n",
       "    <tr>\n",
       "      <th>17</th>\n",
       "      <td>ME</td>\n",
       "      <td>4693</td>\n",
       "      <td>193</td>\n",
       "      <td>24.316062</td>\n",
       "    </tr>\n",
       "    <tr>\n",
       "      <th>18</th>\n",
       "      <td>MI</td>\n",
       "      <td>881</td>\n",
       "      <td>77</td>\n",
       "      <td>11.441558</td>\n",
       "    </tr>\n",
       "    <tr>\n",
       "      <th>19</th>\n",
       "      <td>MO</td>\n",
       "      <td>14412</td>\n",
       "      <td>315</td>\n",
       "      <td>45.752381</td>\n",
       "    </tr>\n",
       "    <tr>\n",
       "      <th>20</th>\n",
       "      <td>MS</td>\n",
       "      <td>2697</td>\n",
       "      <td>138</td>\n",
       "      <td>19.543478</td>\n",
       "    </tr>\n",
       "    <tr>\n",
       "      <th>21</th>\n",
       "      <td>NC</td>\n",
       "      <td>10267</td>\n",
       "      <td>629</td>\n",
       "      <td>16.322734</td>\n",
       "    </tr>\n",
       "    <tr>\n",
       "      <th>22</th>\n",
       "      <td>NE</td>\n",
       "      <td>4704</td>\n",
       "      <td>1</td>\n",
       "      <td>4704.000000</td>\n",
       "    </tr>\n",
       "    <tr>\n",
       "      <th>23</th>\n",
       "      <td>NH</td>\n",
       "      <td>2151</td>\n",
       "      <td>266</td>\n",
       "      <td>8.086466</td>\n",
       "    </tr>\n",
       "    <tr>\n",
       "      <th>24</th>\n",
       "      <td>NJ</td>\n",
       "      <td>1441</td>\n",
       "      <td>123</td>\n",
       "      <td>11.715447</td>\n",
       "    </tr>\n",
       "    <tr>\n",
       "      <th>25</th>\n",
       "      <td>NM</td>\n",
       "      <td>1624</td>\n",
       "      <td>74</td>\n",
       "      <td>21.945946</td>\n",
       "    </tr>\n",
       "    <tr>\n",
       "      <th>26</th>\n",
       "      <td>NY</td>\n",
       "      <td>9664</td>\n",
       "      <td>94</td>\n",
       "      <td>102.808511</td>\n",
       "    </tr>\n",
       "    <tr>\n",
       "      <th>27</th>\n",
       "      <td>OK</td>\n",
       "      <td>9168</td>\n",
       "      <td>476</td>\n",
       "      <td>19.260504</td>\n",
       "    </tr>\n",
       "    <tr>\n",
       "      <th>28</th>\n",
       "      <td>PA</td>\n",
       "      <td>1446</td>\n",
       "      <td>167</td>\n",
       "      <td>8.658683</td>\n",
       "    </tr>\n",
       "    <tr>\n",
       "      <th>29</th>\n",
       "      <td>SC</td>\n",
       "      <td>18991</td>\n",
       "      <td>98</td>\n",
       "      <td>193.785714</td>\n",
       "    </tr>\n",
       "    <tr>\n",
       "      <th>30</th>\n",
       "      <td>SD</td>\n",
       "      <td>1503</td>\n",
       "      <td>260</td>\n",
       "      <td>5.780769</td>\n",
       "    </tr>\n",
       "    <tr>\n",
       "      <th>31</th>\n",
       "      <td>TN</td>\n",
       "      <td>18330</td>\n",
       "      <td>26</td>\n",
       "      <td>705.000000</td>\n",
       "    </tr>\n",
       "    <tr>\n",
       "      <th>32</th>\n",
       "      <td>TX</td>\n",
       "      <td>36050</td>\n",
       "      <td>1036</td>\n",
       "      <td>34.797297</td>\n",
       "    </tr>\n",
       "    <tr>\n",
       "      <th>33</th>\n",
       "      <td>US</td>\n",
       "      <td>1054</td>\n",
       "      <td>1140</td>\n",
       "      <td>0.924561</td>\n",
       "    </tr>\n",
       "    <tr>\n",
       "      <th>34</th>\n",
       "      <td>UT</td>\n",
       "      <td>3277</td>\n",
       "      <td>89</td>\n",
       "      <td>36.820225</td>\n",
       "    </tr>\n",
       "    <tr>\n",
       "      <th>35</th>\n",
       "      <td>VA</td>\n",
       "      <td>9473</td>\n",
       "      <td>97</td>\n",
       "      <td>97.659794</td>\n",
       "    </tr>\n",
       "    <tr>\n",
       "      <th>36</th>\n",
       "      <td>VT</td>\n",
       "      <td>2091</td>\n",
       "      <td>517</td>\n",
       "      <td>4.044487</td>\n",
       "    </tr>\n",
       "    <tr>\n",
       "      <th>37</th>\n",
       "      <td>WI</td>\n",
       "      <td>11614</td>\n",
       "      <td>3</td>\n",
       "      <td>3871.333333</td>\n",
       "    </tr>\n",
       "    <tr>\n",
       "      <th>38</th>\n",
       "      <td>WV</td>\n",
       "      <td>4561</td>\n",
       "      <td>54</td>\n",
       "      <td>84.462963</td>\n",
       "    </tr>\n",
       "    <tr>\n",
       "      <th>39</th>\n",
       "      <td>WY</td>\n",
       "      <td>2558</td>\n",
       "      <td>385</td>\n",
       "      <td>6.644156</td>\n",
       "    </tr>\n",
       "  </tbody>\n",
       "</table>\n",
       "</div>"
      ],
      "text/plain": [
       "   State  Client State Count  Attorney State Count  Client to Attorney Ratio\n",
       "0     AK                1567                   110                 14.245455\n",
       "1     AL                1538                   138                 11.144928\n",
       "2     AR                4243                   192                 22.098958\n",
       "3     AZ                9580                   104                 92.115385\n",
       "4     CA                5188                   245                 21.175510\n",
       "5     CT                2206                   103                 21.417476\n",
       "6     FL               30525                  1103                 27.674524\n",
       "7     GA               13986                   308                 45.409091\n",
       "8     HI                4222                   125                 33.776000\n",
       "9     IA                3099                    67                 46.253731\n",
       "10    ID                   1                     2                  0.500000\n",
       "11    IL               23036                   997                 23.105316\n",
       "12    IN               31458                   484                 64.995868\n",
       "13    KS                 875                    30                 29.166667\n",
       "14    LA                6001                   246                 24.394309\n",
       "15    MA               15902                   533                 29.834897\n",
       "16    MD                5349                   262                 20.416031\n",
       "17    ME                4693                   193                 24.316062\n",
       "18    MI                 881                    77                 11.441558\n",
       "19    MO               14412                   315                 45.752381\n",
       "20    MS                2697                   138                 19.543478\n",
       "21    NC               10267                   629                 16.322734\n",
       "22    NE                4704                     1               4704.000000\n",
       "23    NH                2151                   266                  8.086466\n",
       "24    NJ                1441                   123                 11.715447\n",
       "25    NM                1624                    74                 21.945946\n",
       "26    NY                9664                    94                102.808511\n",
       "27    OK                9168                   476                 19.260504\n",
       "28    PA                1446                   167                  8.658683\n",
       "29    SC               18991                    98                193.785714\n",
       "30    SD                1503                   260                  5.780769\n",
       "31    TN               18330                    26                705.000000\n",
       "32    TX               36050                  1036                 34.797297\n",
       "33    US                1054                  1140                  0.924561\n",
       "34    UT                3277                    89                 36.820225\n",
       "35    VA                9473                    97                 97.659794\n",
       "36    VT                2091                   517                  4.044487\n",
       "37    WI               11614                     3               3871.333333\n",
       "38    WV                4561                    54                 84.462963\n",
       "39    WY                2558                   385                  6.644156"
      ]
     },
     "execution_count": 4,
     "metadata": {},
     "output_type": "execute_result"
    }
   ],
   "source": [
    "clients = clients.drop_duplicates(subset = [\"ClientUno\"])\n",
    "attorneys = attorneys.drop_duplicates(subset = [\"AttorneyUno\"])\n",
    "\n",
    "clients_state = clients.groupby(\"StateAbbr\", as_index = False).count()\n",
    "clients_state = clients_state[[\"StateAbbr\", \"Id\"]]\n",
    "clients_state = clients_state.rename(columns = {\"StateAbbr\" : \"State\", \"Id\": \"Client State Count\"})\n",
    "\n",
    "attorneys_state = attorneys.groupby(\"StateAbbr\", as_index = False).count()\n",
    "attorneys_state = attorneys_state[[\"StateAbbr\", \"Id\"]]\n",
    "attorneys_state = attorneys_state.rename(columns = {\"StateAbbr\" : \"State\", \"Id\": \"Attorney State Count\"})\n",
    "\n",
    "client_to_attorney = pd.DataFrame()\n",
    "client_to_attorney[\"State\"] = clients_state[\"State\"]\n",
    "client_to_attorney[\"Client State Count\"] = clients_state[\"Client State Count\"]\n",
    "client_to_attorney[\"Attorney State Count\"] = attorneys_state[\"Attorney State Count\"]\n",
    "client_to_attorney[\"Client to Attorney Ratio\"] = clients_state[\"Client State Count\"] / attorneys_state[\"Attorney State Count\"] \n",
    "\n",
    "client_to_attorney.head()"
   ]
  },
  {
   "cell_type": "code",
   "execution_count": 5,
   "id": "4c609d14-5139-4498-a590-9fd6ffce947b",
   "metadata": {
    "tags": []
   },
   "outputs": [
    {
     "data": {
      "text/plain": [
       "Text(0.5, 0, 'Number of Clients Per State')"
      ]
     },
     "execution_count": 5,
     "metadata": {},
     "output_type": "execute_result"
    },
    {
     "data": {
      "image/png": "[encoded data removed]",
      "text/plain": [
       "<Figure size 640x480 with 1 Axes>"
      ]
     },
     "metadata": {},
     "output_type": "display_data"
    }
   ],
   "source": [
    "client_to_attorney_plot = sns.regplot(x = \"Client State Count\", y = \"Attorney State Count\", data = client_to_attorney)\n",
    "client_to_attorney_plot.set_title(\"Number of Attorneys vs. Number of Clients in Each U.S. State\")\n",
    "client_to_attorney_plot.set_ylabel(\"Number of Attorneys Per State\")\n",
    "client_to_attorney_plot.set_xlabel(\"Number of Clients Per State\")"
   ]
  },
  {
   "cell_type": "code",
   "execution_count": 6,
   "id": "5f9d957a-817b-4907-a45f-e32f872d3ee8",
   "metadata": {
    "tags": []
   },
   "outputs": [
    {
     "data": {
      "text/plain": [
       "Text(0.5, 1.0, 'Mean Number of Clients per Attorney for U.S. States')"
      ]
     },
     "execution_count": 6,
     "metadata": {},
     "output_type": "execute_result"
    },
    {
     "data": {
      "image/png": "[encoded data removed]",
      "text/plain": [
       "<Figure size 640x480 with 1 Axes>"
      ]
     },
     "metadata": {},
     "output_type": "display_data"
    }
   ],
   "source": [
    "sns.histplot(x = \"Client to Attorney Ratio\", data = client_to_attorney).set_title(\"Mean Number of Clients per Attorney for U.S. States\")"
   ]
  },
  {
   "cell_type": "code",
   "execution_count": 7,
   "id": "cae25a16-f496-4b41-84d1-541c67269e49",
   "metadata": {
    "tags": []
   },
   "outputs": [
    {
     "data": {
      "text/plain": [
       "Text(0.5, 1.0, 'Mean Number of Clients per Attorney for U.S. States (limited to < 700 ratio)')"
      ]
     },
     "execution_count": 7,
     "metadata": {},
     "output_type": "execute_result"
    },
    {
     "data": {
      "image/png": "[encoded data removed]",
      "text/plain": [
       "<Figure size 640x480 with 1 Axes>"
      ]
     },
     "metadata": {},
     "output_type": "display_data"
    }
   ],
   "source": [
    "# Omit the three outliers to see more clearly that the number of clients per attorney in each state is skewed to the right.\n",
    "client_to_attorney2 = client_to_attorney.loc[client_to_attorney[\"Client to Attorney Ratio\"] < 700]\n",
    "sns.histplot(x = \"Client to Attorney Ratio\", data = client_to_attorney2).set_title(\"Mean Number of Clients per Attorney for U.S. States (limited to < 700 ratio)\")"
   ]
  },
  {
   "cell_type": "code",
   "execution_count": 19,
   "id": "fdffa255-a3f5-49d0-b3ed-2baf60ba31b8",
   "metadata": {
    "tags": []
   },
   "outputs": [
    {
     "data": {
      "text/plain": [
       "'temp-plot.html'"
      ]
     },
     "execution_count": 19,
     "metadata": {},
     "output_type": "execute_result"
    }
   ],
   "source": [
    "client_attorney_fig = go.Figure(data = go.Choropleth(\n",
    "    locations = client_to_attorney2[\"State\"], \n",
    "    z = client_to_attorney2[\"Client to Attorney Ratio\"].astype(float), \n",
    "        locationmode = \"USA-states\", \n",
    "        colorscale = \"Blues\",\n",
    "        colorbar = {\"title\": \"Number of Clients Per Attorney\"}))\n",
    "client_attorney_fig.update_layout(geo_scope = \"usa\", \n",
    "                  title_text = \"Number of Clients Per Attorney in Each U.S. State (limited to < 700 ratios)\")\n",
    "py.plot(client_attorney_fig)"
   ]
  },
  {
   "cell_type": "code",
   "execution_count": 9,
   "id": "e0cd5723-558e-4467-b9c8-baee8c227666",
   "metadata": {
    "tags": []
   },
   "outputs": [
    {
     "data": {
      "text/html": [
       "<div>\n",
       "<style scoped>\n",
       "    .dataframe tbody tr th:only-of-type {\n",
       "        vertical-align: middle;\n",
       "    }\n",
       "\n",
       "    .dataframe tbody tr th {\n",
       "        vertical-align: top;\n",
       "    }\n",
       "\n",
       "    .dataframe thead th {\n",
       "        text-align: right;\n",
       "    }\n",
       "</style>\n",
       "<table border=\"1\" class=\"dataframe\">\n",
       "  <thead>\n",
       "    <tr style=\"text-align: right;\">\n",
       "      <th></th>\n",
       "      <th>StateAbbr</th>\n",
       "      <th>AskTime</th>\n",
       "      <th>ClosedTime</th>\n",
       "      <th>TimeDifference</th>\n",
       "    </tr>\n",
       "  </thead>\n",
       "  <tbody>\n",
       "    <tr>\n",
       "      <th>0</th>\n",
       "      <td>NC</td>\n",
       "      <td>2019-06-19 22:10:06</td>\n",
       "      <td>2019-08-13 15:09:06</td>\n",
       "      <td>54 days 16:59:00</td>\n",
       "    </tr>\n",
       "    <tr>\n",
       "      <th>1</th>\n",
       "      <td>NC</td>\n",
       "      <td>2019-06-19 23:34:36</td>\n",
       "      <td>2019-08-13 15:09:14</td>\n",
       "      <td>54 days 15:34:38</td>\n",
       "    </tr>\n",
       "    <tr>\n",
       "      <th>2</th>\n",
       "      <td>NC</td>\n",
       "      <td>2019-06-19 23:57:18</td>\n",
       "      <td>2019-06-24 19:02:35</td>\n",
       "      <td>4 days 19:05:17</td>\n",
       "    </tr>\n",
       "    <tr>\n",
       "      <th>3</th>\n",
       "      <td>NC</td>\n",
       "      <td>2019-06-20 02:33:14</td>\n",
       "      <td>2019-07-31 05:49:18</td>\n",
       "      <td>41 days 03:16:04</td>\n",
       "    </tr>\n",
       "    <tr>\n",
       "      <th>4</th>\n",
       "      <td>NC</td>\n",
       "      <td>2019-06-20 17:04:47</td>\n",
       "      <td>2019-08-13 15:09:20</td>\n",
       "      <td>53 days 22:04:33</td>\n",
       "    </tr>\n",
       "    <tr>\n",
       "      <th>...</th>\n",
       "      <td>...</td>\n",
       "      <td>...</td>\n",
       "      <td>...</td>\n",
       "      <td>...</td>\n",
       "    </tr>\n",
       "    <tr>\n",
       "      <th>202874</th>\n",
       "      <td>NC</td>\n",
       "      <td>2019-06-17 20:37:01</td>\n",
       "      <td>2019-07-27 19:26:43</td>\n",
       "      <td>39 days 22:49:42</td>\n",
       "    </tr>\n",
       "    <tr>\n",
       "      <th>202875</th>\n",
       "      <td>NC</td>\n",
       "      <td>2019-06-18 13:06:00</td>\n",
       "      <td>2019-06-24 19:02:56</td>\n",
       "      <td>6 days 05:56:56</td>\n",
       "    </tr>\n",
       "    <tr>\n",
       "      <th>202876</th>\n",
       "      <td>NC</td>\n",
       "      <td>2019-06-18 15:33:13</td>\n",
       "      <td>2019-08-13 15:10:18</td>\n",
       "      <td>55 days 23:37:05</td>\n",
       "    </tr>\n",
       "    <tr>\n",
       "      <th>202877</th>\n",
       "      <td>NC</td>\n",
       "      <td>2019-06-19 03:23:46</td>\n",
       "      <td>2019-06-28 21:59:13</td>\n",
       "      <td>9 days 18:35:27</td>\n",
       "    </tr>\n",
       "    <tr>\n",
       "      <th>202878</th>\n",
       "      <td>NC</td>\n",
       "      <td>2019-06-19 20:34:08</td>\n",
       "      <td>2019-08-13 15:09:01</td>\n",
       "      <td>54 days 18:34:53</td>\n",
       "    </tr>\n",
       "  </tbody>\n",
       "</table>\n",
       "<p>202879 rows × 4 columns</p>\n",
       "</div>"
      ],
      "text/plain": [
       "       StateAbbr             AskTime          ClosedTime   TimeDifference\n",
       "0             NC 2019-06-19 22:10:06 2019-08-13 15:09:06 54 days 16:59:00\n",
       "1             NC 2019-06-19 23:34:36 2019-08-13 15:09:14 54 days 15:34:38\n",
       "2             NC 2019-06-19 23:57:18 2019-06-24 19:02:35  4 days 19:05:17\n",
       "3             NC 2019-06-20 02:33:14 2019-07-31 05:49:18 41 days 03:16:04\n",
       "4             NC 2019-06-20 17:04:47 2019-08-13 15:09:20 53 days 22:04:33\n",
       "...          ...                 ...                 ...              ...\n",
       "202874        NC 2019-06-17 20:37:01 2019-07-27 19:26:43 39 days 22:49:42\n",
       "202875        NC 2019-06-18 13:06:00 2019-06-24 19:02:56  6 days 05:56:56\n",
       "202876        NC 2019-06-18 15:33:13 2019-08-13 15:10:18 55 days 23:37:05\n",
       "202877        NC 2019-06-19 03:23:46 2019-06-28 21:59:13  9 days 18:35:27\n",
       "202878        NC 2019-06-19 20:34:08 2019-08-13 15:09:01 54 days 18:34:53\n",
       "\n",
       "[202879 rows x 4 columns]"
      ]
     },
     "execution_count": 9,
     "metadata": {},
     "output_type": "execute_result"
    }
   ],
   "source": [
    "time = pd.DataFrame(questions[\"StateAbbr\"])\n",
    "time[\"AskTime\"] = pd.to_datetime(questions[\"AskedOnUtc\"])\n",
    "time[\"ClosedTime\"] = pd.to_datetime(questions[\"ClosedOnUtc\"])\n",
    "time[\"TimeDifference\"] = time[\"ClosedTime\"] - time[\"AskTime\"] \n",
    "time.head()"
   ]
  },
  {
   "cell_type": "code",
   "execution_count": 10,
   "id": "13d34d38-9545-43b7-a994-f2b8932f7fc2",
   "metadata": {
    "tags": []
   },
   "outputs": [
    {
     "data": {
      "text/html": [
       "<div>\n",
       "<style scoped>\n",
       "    .dataframe tbody tr th:only-of-type {\n",
       "        vertical-align: middle;\n",
       "    }\n",
       "\n",
       "    .dataframe tbody tr th {\n",
       "        vertical-align: top;\n",
       "    }\n",
       "\n",
       "    .dataframe thead th {\n",
       "        text-align: right;\n",
       "    }\n",
       "</style>\n",
       "<table border=\"1\" class=\"dataframe\">\n",
       "  <thead>\n",
       "    <tr style=\"text-align: right;\">\n",
       "      <th></th>\n",
       "      <th>StateAbbr</th>\n",
       "      <th>TimeDifference</th>\n",
       "    </tr>\n",
       "  </thead>\n",
       "  <tbody>\n",
       "    <tr>\n",
       "      <th>0</th>\n",
       "      <td>AK</td>\n",
       "      <td>54.707639</td>\n",
       "    </tr>\n",
       "    <tr>\n",
       "      <th>1</th>\n",
       "      <td>AL</td>\n",
       "      <td>54.649051</td>\n",
       "    </tr>\n",
       "    <tr>\n",
       "      <th>2</th>\n",
       "      <td>AR</td>\n",
       "      <td>4.795336</td>\n",
       "    </tr>\n",
       "    <tr>\n",
       "      <th>3</th>\n",
       "      <td>AZ</td>\n",
       "      <td>41.136157</td>\n",
       "    </tr>\n",
       "    <tr>\n",
       "      <th>4</th>\n",
       "      <td>CA</td>\n",
       "      <td>53.919826</td>\n",
       "    </tr>\n",
       "  </tbody>\n",
       "</table>\n",
       "</div>"
      ],
      "text/plain": [
       "  StateAbbr  TimeDifference\n",
       "0        AK       54.707639\n",
       "1        AL       54.649051\n",
       "2        AR        4.795336\n",
       "3        AZ       41.136157\n",
       "4        CA       53.919826"
      ]
     },
     "execution_count": 10,
     "metadata": {},
     "output_type": "execute_result"
    }
   ],
   "source": [
    "time_diff = pd.DataFrame(time.groupby(\"StateAbbr\", as_index = False).TimeDifference.mean())\n",
    "time_diff[\"TimeDifference\"] = time[\"TimeDifference\"].astype(int)/ 10**9 / 86400\n",
    "time_diff.head()"
   ]
  },
  {
   "cell_type": "code",
   "execution_count": 11,
   "id": "ba19ae3b-e9f2-455b-b883-b4c379fa2e40",
   "metadata": {
    "tags": []
   },
   "outputs": [
    {
     "data": {
      "text/plain": [
       "Text(0.5, 0, 'Difference in Time (Days)')"
      ]
     },
     "execution_count": 11,
     "metadata": {},
     "output_type": "execute_result"
    },
    {
     "data": {
      "image/png": "[encoded data removed]",
      "text/plain": [
       "<Figure size 640x480 with 1 Axes>"
      ]
     },
     "metadata": {},
     "output_type": "display_data"
    }
   ],
   "source": [
    "time_diff_histplot = sns.histplot(x = \"TimeDifference\", data = time_diff)\n",
    "time_diff_histplot.set_title(\"Mean Time Per State between the First Ask and Closure of a Conversation\") \n",
    "time_diff_histplot.set_xlabel(\"Difference in Time (Days)\")"
   ]
  },
  {
   "cell_type": "code",
   "execution_count": 12,
   "id": "a1b82675-ec20-4ad3-9b72-46ca2246e6d5",
   "metadata": {
    "tags": []
   },
   "outputs": [
    {
     "data": {
      "text/plain": [
       "'temp-plot.html'"
      ]
     },
     "execution_count": 12,
     "metadata": {},
     "output_type": "execute_result"
    }
   ],
   "source": [
    "# Choropleth Map of the Mean Time to Close a Conversation Per State\n",
    "fig = go.Figure(data = go.Choropleth(\n",
    "    locations = time_diff[\"StateAbbr\"], \n",
    "    z = time_diff[\"TimeDifference\"].astype(float), \n",
    "        locationmode = \"USA-states\", \n",
    "        colorscale = \"Blues\",\n",
    "        colorbar = {\"title\": \"Time in Seconds\"}))\n",
    "fig.update_layout(geo_scope = \"usa\", \n",
    "                  title_text = \"Mean Time to Close Pro-Bono Legal Service Conversations Per State\")\n",
    "py.plot(fig)"
   ]
  },
  {
   "cell_type": "code",
   "execution_count": 13,
   "id": "e4f87cf2-e4c9-491a-82f5-1240319c68e4",
   "metadata": {
    "tags": []
   },
   "outputs": [],
   "source": [
    "attorney_questions = pd.merge(questions, attorneys, how = \"inner\", left_on = \"TakenByAttorneyUno\", right_on = \"AttorneyUno\", suffixes = (\"\", \"Attorney\"))"
   ]
  },
  {
   "cell_type": "code",
   "execution_count": 14,
   "id": "bf8f1d85-bd88-4402-9583-880c0c532780",
   "metadata": {
    "tags": []
   },
   "outputs": [],
   "source": [
    "client_questions = pd.merge(questions, clients, how = \"inner\", left_on = \"AskedByClientUno\", right_on = \"ClientUno\", suffixes = (\"\", \"Attorney\"))"
   ]
  },
  {
   "cell_type": "markdown",
   "id": "d1c26d1a-c9d4-4d62-bd72-1e5ad48cff29",
   "metadata": {
    "tags": []
   },
   "source": [
    "# Future ideas\n",
    "- Analyze frequency of words with TF-IDF/scikit-learn"
   ]
  },
  {
   "cell_type": "code",
   "execution_count": 16,
   "id": "d4220a08-8d8d-46f2-b7bc-067670bed08c",
   "metadata": {
    "tags": []
   },
   "outputs": [],
   "source": [
    "# from sklearn.feature_extraction.text import CountVectorizer\n",
    "# from sklearn.feature_extraction.text import TfidfTransformer\n",
    "# from sklearn.feature_extraction.text import TfidfVectorizer\n",
    "# question_posts = pd.read_csv(\"questionposts.csv\", on_bad_lines = 'skip')\n",
    "# question_posts_text = pd.DataFrame()\n",
    "# question_posts_text[\"Conversation Text\"] = question_posts[\"PostText\"]\n",
    "# question_posts_text = question_posts_text[\"Conversation Text\"].apply(lambda x: np.str_(x))\n",
    "# # question_posts_text = question_posts[\"PostText\"].to_numpy()\n",
    "# question_posts_text.sample(frac = 0.000005, random_state = 1)"
   ]
  },
  {
   "cell_type": "code",
   "execution_count": 17,
   "id": "3e50be71-f7f9-4150-b8de-298fb7198a75",
   "metadata": {
    "tags": []
   },
   "outputs": [],
   "source": [
    "# countvectorizer = CountVectorizer(analyzer = \"word\", stop_words= \"english\")\n",
    "# tfidfvectorizer = TfidfVectorizer(analyzer = \"word\", stop_words= \"english\")\n",
    "# count_wm = countvectorizer.fit_transform(question_posts_text)\n",
    "# tfidf_wm = tfidfvectorizer.fit_transform(question_posts_text)\n",
    "# count_tokens = countvectorizer.get_feature_names_out()\n",
    "# tfidf_tokens = tfidfvectorizer.get_feature_names_out()\n",
    "# df_countvect = pd.DataFrame(data = count_wm.toarray(),index = ['Doc1'],columns = count_tokens)\n",
    "# df_tfidfvect = pd.DataFrame(data = tfidf_wm.toarray(),index = ['Doc1'],columns = tfidf_tokens)"
   ]
  },
  {
   "cell_type": "code",
   "execution_count": 18,
   "id": "c62e3d2f-70eb-4450-a626-3a98ae9f179b",
   "metadata": {
    "tags": []
   },
   "outputs": [],
   "source": [
    "# print(\"Count Vectorizer\\n\")\n",
    "# print(df_countvect)\n",
    "# print(\"\\nTD-IDF Vectorizer\\n\")\n",
    "# print(df_tfidfvect)"
   ]
  },
  {
   "cell_type": "code",
   "execution_count": null,
   "id": "9486350d-2e9c-4d35-ab00-6f2261f06589",
   "metadata": {},
   "outputs": [],
   "source": []
  }
 ],
 "metadata": {
  "kernelspec": {
   "display_name": "Python 3 (ipykernel)",
   "language": "python",
   "name": "python3"
  },
  "language_info": {
   "codemirror_mode": {
    "name": "ipython",
    "version": 3
   },
   "file_extension": ".py",
   "mimetype": "text/x-python",
   "name": "python",
   "nbconvert_exporter": "python",
   "pygments_lexer": "ipython3",
   "version": "3.10.2"
  }
 },
 "nbformat": 4,
 "nbformat_minor": 5
}
